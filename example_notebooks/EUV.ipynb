{
 "cells": [
  {
   "cell_type": "code",
   "execution_count": null,
   "metadata": {},
   "outputs": [],
   "source": [
    "%load_ext autoreload\n",
    "%autoreload 2"
   ]
  },
  {
   "cell_type": "markdown",
   "metadata": {},
   "source": [
    "# ZFEL example"
   ]
  },
  {
   "cell_type": "code",
   "execution_count": null,
   "metadata": {},
   "outputs": [],
   "source": [
    "import os, sys\n",
    "sys.path.insert(0, os.path.abspath('/Users/nneveu/github/zfel'))\n",
    "from zfel import sase1d\n",
    "\n",
    "import zfel.plot\n",
    "\n",
    "import numpy as np\n",
    "\n",
    "import matplotlib.pyplot as plt\n",
    "%matplotlib inline\n",
    "%config InlineBackend.figure_format = 'retina'"
   ]
  },
  {
   "cell_type": "markdown",
   "metadata": {},
   "source": [
    "## Input "
   ]
  },
  {
   "cell_type": "code",
   "execution_count": null,
   "metadata": {},
   "outputs": [],
   "source": [
    "sase_input = dict(\n",
    "    npart   = 2048,                       # n-macro-particles per bucket \n",
    "    s_steps = 200,                      # n-sample points along bunch length\n",
    "    z_steps = 200,                      # n-sample points along undulator\n",
    "    energy  = 1000.e6,                # electron energy [eV]\n",
    "    eSpread = 1e-3,                       # relative rms energy spread [1]\n",
    "    emitN   = 0.4e-6,                    # normalized transverse emittance [m-rad]\n",
    "    currentMax = 1000,                   # peak current [Ampere]\n",
    "    beta = 12,                          # mean beta [meter]\n",
    "    unduPeriod = 0.026,                 # undulator period [meter]\n",
    "    unduK = 2.442 ,          # undulator parameter, K [1], array could taper. \n",
    "    unduL = 50,                         # length of undulator [meter]\n",
    "    radWavelength=None,                 # Will calculate based on resonance condition for unduK[0]\n",
    "    random_seed=31,                     # for reproducibility\n",
    "    particle_position=None, #np.genfromtxt('./Inputs/particle_position.csv', delimiter=',') # or None,\n",
    "    hist_rule='square-root',             # 'square-root' or 'sturges' or 'rice-rule' or 'self-design', number \\\n",
    "                                       #  of intervals to generate the histogram of eta value in a bucket\n",
    "    iopt='sase',\n",
    "    P0 = 1e0                            # small seed input power [W]\n",
    ")"
   ]
  },
  {
   "cell_type": "code",
   "execution_count": null,
   "metadata": {},
   "outputs": [],
   "source": [
    "lamda_r"
   ]
  },
  {
   "cell_type": "markdown",
   "metadata": {},
   "source": [
    "## Intermediate parameters \n",
    "\n",
    "These are used internally"
   ]
  },
  {
   "cell_type": "code",
   "execution_count": null,
   "metadata": {},
   "outputs": [],
   "source": [
    "params = sase1d.params_calc(**sase_input)\n",
    "params.keys()"
   ]
  },
  {
   "cell_type": "markdown",
   "metadata": {},
   "source": [
    "## Run"
   ]
  },
  {
   "cell_type": "code",
   "execution_count": null,
   "metadata": {},
   "outputs": [],
   "source": [
    "%%time\n",
    "output = sase1d.sase(sase_input)"
   ]
  },
  {
   "cell_type": "code",
   "execution_count": null,
   "metadata": {},
   "outputs": [],
   "source": [
    "output.keys()"
   ]
  },
  {
   "cell_type": "markdown",
   "metadata": {},
   "source": [
    "## Plot output"
   ]
  },
  {
   "cell_type": "code",
   "execution_count": null,
   "metadata": {},
   "outputs": [],
   "source": [
    "plt.ylabel('Power (GW)')\n",
    "plt.xlabel('z (m)')\n",
    "plt.plot(output['z'], output['power_z']/1e9)"
   ]
  },
  {
   "cell_type": "code",
   "execution_count": null,
   "metadata": {},
   "outputs": [],
   "source": [
    "# Power evolution. z vs slice\n",
    "plt.imshow( (output['Er']**2 + output['Ei']**2).T, origin='lower')"
   ]
  },
  {
   "cell_type": "code",
   "execution_count": null,
   "metadata": {},
   "outputs": [],
   "source": [
    "plt.semilogy(output['z'], 1e-9*output['power_z'])\n",
    "plt.xlabel(\"Undulator distance, m\")\n",
    "plt.ylabel(\"Power (log scale), GW\")\n",
    "plt.xlim([0, 20])\n",
    "plt.twinx()\n",
    "plt.plot(output['z'], 1e-9*output['power_z'], 'r')\n",
    "plt.ylabel(\"Power (lin scale), GW\")\n",
    "plt.ylim([0, 0.5*10E0])\n",
    "plt.show()"
   ]
  },
  {
   "cell_type": "code",
   "execution_count": null,
   "metadata": {},
   "outputs": [],
   "source": []
  },
  {
   "cell_type": "code",
   "execution_count": null,
   "metadata": {},
   "outputs": [],
   "source": [
    "zfel.plot.plot_log_power_z(output)"
   ]
  },
  {
   "cell_type": "code",
   "execution_count": null,
   "metadata": {},
   "outputs": [],
   "source": [
    "zfel.plot.plot_power_s(output)"
   ]
  },
  {
   "cell_type": "code",
   "execution_count": null,
   "metadata": {},
   "outputs": [],
   "source": [
    "# plot spectrum\n",
    "freq = output['freq']\n",
    "spectrum = output['spectrum']\n",
    "plt.plot(freq,spectrum[1:,-1])\n",
    "plt.xlabel('energy (eV)')\n",
    "plt.ylabel('spectrum (W/?)')"
   ]
  },
  {
   "cell_type": "code",
   "execution_count": null,
   "metadata": {},
   "outputs": [],
   "source": []
  },
  {
   "cell_type": "code",
   "execution_count": null,
   "metadata": {},
   "outputs": [],
   "source": []
  }
 ],
 "metadata": {
  "kernelspec": {
   "display_name": "Python 3",
   "language": "python",
   "name": "py3"
  },
  "language_info": {
   "codemirror_mode": {
    "name": "ipython",
    "version": 3
   },
   "file_extension": ".py",
   "mimetype": "text/x-python",
   "name": "python",
   "nbconvert_exporter": "python",
   "pygments_lexer": "ipython3",
   "version": "3.7.2"
  }
 },
 "nbformat": 4,
 "nbformat_minor": 4
}
