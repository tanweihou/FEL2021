{
 "cells": [
  {
   "cell_type": "code",
   "execution_count": null,
   "metadata": {},
   "outputs": [],
   "source": [
    "import numpy as np\n",
    "%matplotlib inline\n",
    "%config InlineBackend.figure_format = 'retina'\n",
    "import matplotlib.pyplot as plt\n",
    "plt.style.use(r'PaperDoubleFig.mplstyle')"
   ]
  },
  {
   "cell_type": "markdown",
   "metadata": {},
   "source": [
    "# FODO elements"
   ]
  },
  {
   "cell_type": "code",
   "execution_count": null,
   "metadata": {},
   "outputs": [],
   "source": [
    "def focus(k, l):\n",
    "    \"\"\"\n",
    "    This function could be used to generate \"natural focusing\" and Quand focusing(defocusing)\n",
    "    \"\"\"\n",
    "    if k>0:\n",
    "    \n",
    "        sr_k = np.sqrt(k)\n",
    "        c = np.cos(sr_k*l)\n",
    "        s = np.sin(sr_k*l)\n",
    "        return np.array([[c, s/sr_k],\n",
    "                         [-sr_k*s, c]])\n",
    "    elif k<0:\n",
    "        sr_k = np.sqrt(-k)\n",
    "        c = np.cosh(sr_k*l)\n",
    "        s = np.sinh(sr_k*l)\n",
    "        return np.array([[c, s/sr_k],\n",
    "                         [sr_k*s, c]])\n",
    "\n",
    "def drift(L):\n",
    "    return np.array([[1, L],\n",
    "                     [0, 1]])\n"
   ]
  },
  {
   "cell_type": "markdown",
   "metadata": {},
   "source": [
    "# Genesis Parametrs\n",
    "http://genesis.web.psi.ch/Manual/parameter_focusing.html\n",
    "\n",
    "http://genesis.web.psi.ch/Manual/parameter_undulator.html\n",
    "\n",
    "http://genesis.web.psi.ch/Manual/parameter_beam.html"
   ]
  },
  {
   "cell_type": "code",
   "execution_count": null,
   "metadata": {},
   "outputs": [],
   "source": [
    "# UNDULATOR parameters\n",
    "XLAMD = 0.0186  # undulator wavelength\n",
    "ku = 2*np.pi/XLAMD\n",
    "AW0 = 0.86  # rms Undulator parameter\n",
    "K = np.sqrt(2)*AW0\n",
    "# FODO parameters\n",
    "F1ST = 5\n",
    "QUADF = 30\n",
    "FL = 10\n",
    "QUADD = 30\n",
    "FD = 10\n",
    "\n",
    "DRL = 100\n",
    "# Beam parameters\n",
    "GAMMA0 = 12e9/0.511e6  # beam energy in mc2"
   ]
  },
  {
   "cell_type": "markdown",
   "metadata": {},
   "source": [
    "# Derived parameters"
   ]
  },
  {
   "cell_type": "code",
   "execution_count": null,
   "metadata": {},
   "outputs": [],
   "source": [
    "# Focusing quads\n",
    "lf1st = F1ST*XLAMD\n",
    "lf = FL*XLAMD\n",
    "kf = 585*QUADF/GAMMA0\n",
    "# Defocusing quads\n",
    "ld = FD*XLAMD\n",
    "kd = -585*QUADD/GAMMA0\n",
    "# Undulator focusing\n",
    "L = DRL*XLAMD\n",
    "Ku = K**2*ku**2/(2*GAMMA0**2)"
   ]
  },
  {
   "cell_type": "code",
   "execution_count": null,
   "metadata": {},
   "outputs": [],
   "source": [
    "# Thin lens approximation\n",
    "f = (lf*kf)**-1\n",
    "phi_c = 2*np.arcsin((lf+ld+2*L)/(4*f))\n",
    "print(f\"Simple phi_c={phi_c}\")\n",
    "print(f\"Simple beta_max={(lf+ld+2*L)*(1+np.sin(phi_c/2))/np.sin(phi_c)}\")\n",
    "print(f\"Simple beta_min={(lf+ld+2*L)*(1-np.sin(phi_c/2))/np.sin(phi_c)}\")"
   ]
  },
  {
   "cell_type": "markdown",
   "metadata": {},
   "source": [
    "# Building FODOs "
   ]
  },
  {
   "cell_type": "markdown",
   "metadata": {},
   "source": [
    "## Horizontal FODO"
   ]
  },
  {
   "cell_type": "code",
   "execution_count": null,
   "metadata": {},
   "outputs": [],
   "source": [
    "FODOx = focus(kf, lf1st) @ \\\n",
    "        drift(L) @ focus(kd, ld) @ drift(L) @ \\\n",
    "        focus(kf, lf1st)\n",
    "print(FODOx)"
   ]
  },
  {
   "cell_type": "code",
   "execution_count": null,
   "metadata": {},
   "outputs": [],
   "source": [
    "phi_c = (np.arccos(np.trace(FODOx)/2))\n",
    "print(phi_c)"
   ]
  },
  {
   "cell_type": "code",
   "execution_count": null,
   "metadata": {},
   "outputs": [],
   "source": [
    "beta_x = FODOx[0,1]/np.sin(phi_c)\n",
    "print(beta_x)"
   ]
  },
  {
   "cell_type": "code",
   "execution_count": null,
   "metadata": {},
   "outputs": [],
   "source": [
    "np.sqrt(beta_x*0.2e-6/GAMMA0)"
   ]
  },
  {
   "cell_type": "markdown",
   "metadata": {},
   "source": [
    "## Vertical FODO without \"natural focusing\""
   ]
  },
  {
   "cell_type": "code",
   "execution_count": null,
   "metadata": {},
   "outputs": [],
   "source": [
    "FODOy = focus(-kf, lf1st) @ \\\n",
    "        drift(L) @ focus(-kd, ld) @ drift(L) @ \\\n",
    "        focus(-kf, lf1st)\n",
    "print(FODOy)"
   ]
  },
  {
   "cell_type": "code",
   "execution_count": null,
   "metadata": {},
   "outputs": [],
   "source": [
    "phi_c = (np.arccos(np.trace(FODOy)/2))\n",
    "print(phi_c)"
   ]
  },
  {
   "cell_type": "code",
   "execution_count": null,
   "metadata": {},
   "outputs": [],
   "source": [
    "beta_y = FODOy[0,1]/np.sin(phi_c)\n",
    "print(beta_y)"
   ]
  },
  {
   "cell_type": "code",
   "execution_count": null,
   "metadata": {},
   "outputs": [],
   "source": [
    "np.sqrt(beta_y*0.2e-6/GAMMA0)"
   ]
  },
  {
   "cell_type": "markdown",
   "metadata": {},
   "source": [
    "## Vertical FODO with \"natural focusing\""
   ]
  },
  {
   "cell_type": "code",
   "execution_count": null,
   "metadata": {},
   "outputs": [],
   "source": [
    "FODOy = focus(-kf, lf1st) @ \\\n",
    "        focus(Ku, L) @ focus(-kd, ld) @ focus(Ku, L) @ \\\n",
    "        focus(-kf, lf1st)\n",
    "print(FODOy)"
   ]
  },
  {
   "cell_type": "code",
   "execution_count": null,
   "metadata": {},
   "outputs": [],
   "source": [
    "phi_c = (np.arccos(np.trace(FODOy)/2))\n",
    "print(phi_c)"
   ]
  },
  {
   "cell_type": "code",
   "execution_count": null,
   "metadata": {},
   "outputs": [],
   "source": [
    "beta_y = FODOy[0,1]/np.sin(phi_c)\n",
    "print(beta_y)"
   ]
  },
  {
   "cell_type": "code",
   "execution_count": null,
   "metadata": {},
   "outputs": [],
   "source": [
    "np.sqrt(beta_y*0.2e-6/GAMMA0)"
   ]
  },
  {
   "cell_type": "markdown",
   "metadata": {},
   "source": [
    "# Values at Half lattice"
   ]
  },
  {
   "cell_type": "code",
   "execution_count": null,
   "metadata": {},
   "outputs": [],
   "source": [
    "M1 = focus(kd, ld/2) @ drift(L) @ focus(kf, lf1st)\n",
    "M2 = focus(kf, lf1st) @ drift(L) @ focus(kd, ld/2)\n",
    "FODOx = M2@M1\n",
    "phi_c = (np.arccos(np.trace(FODOx)/2))\n",
    "print(phi_c)\n",
    "beta_x = FODOx[0,1]/np.sin(phi_c)\n",
    "print(np.sqrt(beta_x*0.2e-6/GAMMA0))\n",
    "# reverse order\n",
    "FODOx = M1@M2\n",
    "phi_c = (np.arccos(np.trace(FODOx)/2))\n",
    "print(phi_c)\n",
    "beta_x = FODOx[0,1]/np.sin(phi_c)\n",
    "print(np.sqrt(beta_x*0.2e-6/GAMMA0))\n",
    "print('phase advance is the same!')"
   ]
  },
  {
   "cell_type": "code",
   "execution_count": null,
   "metadata": {},
   "outputs": [],
   "source": [
    "M1 = focus(-kd, ld/2) @ focus(Ku, L) @ focus(-kf, lf1st)\n",
    "M2 = focus(-kf, lf1st) @ focus(Ku, L) @ focus(-kd, ld/2)\n",
    "FODOy = M2 @ M1\n",
    "phi_c = (np.arccos(np.trace(FODOy)/2))\n",
    "print(phi_c)\n",
    "beta_y = FODOy[0,1]/np.sin(phi_c)\n",
    "print(np.sqrt(beta_y*0.2e-6/GAMMA0))\n",
    "# reverse order\n",
    "FODOy = M1 @ M2\n",
    "phi_c = (np.arccos(np.trace(FODOy)/2))\n",
    "print(phi_c)\n",
    "beta_y = FODOy[0,1]/np.sin(phi_c)\n",
    "print(np.sqrt(beta_y*0.2e-6/GAMMA0))"
   ]
  },
  {
   "cell_type": "markdown",
   "metadata": {},
   "source": [
    "We see that values at Half lattice point are not equal, which means that the beam is elliptic.\n",
    "Let us adjust value of the quads in order to keep beam round on average"
   ]
  },
  {
   "cell_type": "markdown",
   "metadata": {},
   "source": [
    "# FODO lattice tuning"
   ]
  },
  {
   "cell_type": "code",
   "execution_count": null,
   "metadata": {},
   "outputs": [],
   "source": [
    "def cost(kf, kd):\n",
    "    M1 = focus(kd, ld/2) @ drift(L) @ focus(kf, lf1st)\n",
    "    M2 = focus(kf, lf1st) @ drift(L) @ focus(kd, ld/2)\n",
    "    FODOx = M2@M1\n",
    "    phi_c = (np.arccos(np.trace(FODOx)/2))\n",
    "    beta_x_max = FODOx[0,1]/np.sin(phi_c)\n",
    "    FODOx = M1@M2\n",
    "    phi_c_x = (np.arccos(np.trace(FODOx)/2))\n",
    "    beta_x_min = FODOx[0,1]/np.sin(phi_c_x)\n",
    "\n",
    "    M1 = focus(-kd, ld/2) @ focus(Ku, L) @ focus(-kf, lf1st)\n",
    "    M2 = focus(-kf, lf1st) @ focus(Ku, L) @ focus(-kd, ld/2)\n",
    "    FODOy = M2 @ M1\n",
    "    phi_c = (np.arccos(np.trace(FODOy)/2))\n",
    "    beta_y_min = FODOy[0,1]/np.sin(phi_c)\n",
    "    FODOy = M1 @ M2\n",
    "    phi_c_y = (np.arccos(np.trace(FODOy)/2))\n",
    "    beta_y_max = FODOy[0,1]/np.sin(phi_c_y)\n",
    "    #return (phi_c_x-phi_c_y)**2\n",
    "    return (beta_x_max-beta_y_max)**2 + (beta_x_min-beta_y_min)**2\n",
    "\n",
    "npcost = np.vectorize(cost)"
   ]
  },
  {
   "cell_type": "code",
   "execution_count": null,
   "metadata": {},
   "outputs": [],
   "source": [
    "xkf = np.linspace(0.99*kf, 1.01*kf)\n",
    "ykd = np.linspace(0.99*kd, 1.01*kd)\n",
    "X, Y = np.meshgrid(xkf, ykd)\n",
    "res = npcost(X, Y)\n",
    "plt.contourf(X, Y, res)\n",
    "plt.colorbar()\n",
    "plt.show()"
   ]
  },
  {
   "cell_type": "code",
   "execution_count": null,
   "metadata": {},
   "outputs": [],
   "source": [
    "from scipy.optimize import minimize_scalar"
   ]
  },
  {
   "cell_type": "code",
   "execution_count": null,
   "metadata": {},
   "outputs": [],
   "source": [
    "kf = minimize_scalar(cost, bracket=(0.95*kf, kf, 1.05*kf), args=kd).x"
   ]
  },
  {
   "cell_type": "code",
   "execution_count": null,
   "metadata": {},
   "outputs": [],
   "source": [
    "M1 = focus(kd, ld/2) @ drift(L) @ focus(kf, lf1st)\n",
    "M2 = focus(kf, lf1st) @ drift(L) @ focus(kd, ld/2)\n",
    "FODOx = M2@M1\n",
    "phi_c = (np.arccos(np.trace(FODOx)/2))\n",
    "print(phi_c)\n",
    "beta_x = FODOx[0,1]/np.sin(phi_c)\n",
    "print(np.sqrt(beta_x*0.2e-6/GAMMA0))\n",
    "# reverse order\n",
    "FODOx = M1@M2\n",
    "phi_c = (np.arccos(np.trace(FODOx)/2))\n",
    "print(phi_c)\n",
    "beta_x = FODOx[0,1]/np.sin(phi_c)\n",
    "print(np.sqrt(beta_x*0.2e-6/GAMMA0))\n",
    "print('phase advance is the same!')"
   ]
  },
  {
   "cell_type": "code",
   "execution_count": null,
   "metadata": {},
   "outputs": [],
   "source": [
    "M1 = focus(-kd, ld/2) @ focus(Ku, L) @ focus(-kf, lf1st)\n",
    "M2 = focus(-kf, lf1st) @ focus(Ku, L) @ focus(-kd, ld/2)\n",
    "FODOy = M2 @ M1\n",
    "phi_c = (np.arccos(np.trace(FODOy)/2))\n",
    "print(phi_c)\n",
    "beta_y = FODOy[0,1]/np.sin(phi_c)\n",
    "print(np.sqrt(beta_y*0.2e-6/GAMMA0))\n",
    "# reverse order\n",
    "FODOy = M1 @ M2\n",
    "phi_c = (np.arccos(np.trace(FODOy)/2))\n",
    "print(phi_c)\n",
    "beta_y = FODOy[0,1]/np.sin(phi_c)\n",
    "print(np.sqrt(beta_y*0.2e-6/GAMMA0))"
   ]
  },
  {
   "cell_type": "markdown",
   "metadata": {},
   "source": [
    "- We can see that phase advances are different although beam is matched;\n"
   ]
  },
  {
   "cell_type": "code",
   "execution_count": null,
   "metadata": {},
   "outputs": [],
   "source": [
    "print(f\"QUADF={GAMMA0*kf/585}\")\n",
    "print(f\"QUADD={GAMMA0*kd/585}\")"
   ]
  },
  {
   "cell_type": "code",
   "execution_count": null,
   "metadata": {},
   "outputs": [],
   "source": []
  },
  {
   "cell_type": "markdown",
   "metadata": {},
   "source": [
    "# FODO lattice tuning by phase"
   ]
  },
  {
   "cell_type": "code",
   "execution_count": null,
   "metadata": {},
   "outputs": [],
   "source": [
    "def cost(kf, kd):\n",
    "    M1 = focus(kd, ld/2) @ drift(L) @ focus(kf, lf1st)\n",
    "    M2 = focus(kf, lf1st) @ drift(L) @ focus(kd, ld/2)\n",
    "    FODOx = M2@M1\n",
    "    phi_c = (np.arccos(np.trace(FODOx)/2))\n",
    "    beta_x_max = FODOx[0,1]/np.sin(phi_c)\n",
    "    FODOx = M1@M2\n",
    "    phi_c_x = (np.arccos(np.trace(FODOx)/2))\n",
    "    beta_x_min = FODOx[0,1]/np.sin(phi_c_x)\n",
    "\n",
    "    M1 = focus(-kd, ld/2) @ focus(Ku, L) @ focus(-kf, lf1st)\n",
    "    M2 = focus(-kf, lf1st) @ focus(Ku, L) @ focus(-kd, ld/2)\n",
    "    FODOy = M2 @ M1\n",
    "    phi_c = (np.arccos(np.trace(FODOy)/2))\n",
    "    beta_y_min = FODOy[0,1]/np.sin(phi_c)\n",
    "    FODOy = M1 @ M2\n",
    "    phi_c_y = (np.arccos(np.trace(FODOy)/2))\n",
    "    beta_y_max = FODOy[0,1]/np.sin(phi_c_y)\n",
    "    return (phi_c_x-phi_c_y)**2\n",
    "    #return (beta_x_max-beta_y_max)**2 + (beta_x_min-beta_y_min)**2\n",
    "\n",
    "npcost = np.vectorize(cost)"
   ]
  },
  {
   "cell_type": "code",
   "execution_count": null,
   "metadata": {},
   "outputs": [],
   "source": [
    "xkf = np.linspace(0.99*kf, 1.01*kf)\n",
    "ykd = np.linspace(0.99*kd, 1.01*kd)\n",
    "X, Y = np.meshgrid(xkf, ykd)\n",
    "res = npcost(X, Y)\n",
    "plt.contourf(X, Y, res)\n",
    "plt.colorbar()\n",
    "plt.show()"
   ]
  },
  {
   "cell_type": "code",
   "execution_count": null,
   "metadata": {},
   "outputs": [],
   "source": [
    "kf = minimize_scalar(cost, bracket=(0.95*kf, kf, 1.05*kf), args=kd).x"
   ]
  },
  {
   "cell_type": "code",
   "execution_count": null,
   "metadata": {},
   "outputs": [],
   "source": [
    "M1 = focus(kd, ld/2) @ drift(L) @ focus(kf, lf1st)\n",
    "M2 = focus(kf, lf1st) @ drift(L) @ focus(kd, ld/2)\n",
    "FODOx = M2@M1\n",
    "phi_c = (np.arccos(np.trace(FODOx)/2))\n",
    "print(phi_c)\n",
    "beta_x = FODOx[0,1]/np.sin(phi_c)\n",
    "print(np.sqrt(beta_x*0.2e-6/GAMMA0))\n",
    "# reverse order\n",
    "FODOx = M1@M2\n",
    "phi_c = (np.arccos(np.trace(FODOx)/2))\n",
    "print(phi_c)\n",
    "beta_x = FODOx[0,1]/np.sin(phi_c)\n",
    "print(np.sqrt(beta_x*0.2e-6/GAMMA0))\n",
    "print('phase advance is the same!')"
   ]
  },
  {
   "cell_type": "code",
   "execution_count": null,
   "metadata": {},
   "outputs": [],
   "source": [
    "M1 = focus(-kd, ld/2) @ focus(Ku, L) @ focus(-kf, lf1st)\n",
    "M2 = focus(-kf, lf1st) @ focus(Ku, L) @ focus(-kd, ld/2)\n",
    "FODOy = M2 @ M1\n",
    "phi_c = (np.arccos(np.trace(FODOy)/2))\n",
    "print(phi_c)\n",
    "beta_y = FODOy[0,1]/np.sin(phi_c)\n",
    "print(np.sqrt(beta_y*0.2e-6/GAMMA0))\n",
    "# reverse order\n",
    "FODOy = M1 @ M2\n",
    "phi_c = (np.arccos(np.trace(FODOy)/2))\n",
    "print(phi_c)\n",
    "beta_y = FODOy[0,1]/np.sin(phi_c)\n",
    "print(np.sqrt(beta_y*0.2e-6/GAMMA0))"
   ]
  },
  {
   "cell_type": "code",
   "execution_count": null,
   "metadata": {},
   "outputs": [],
   "source": [
    "print(f\"QUADF={GAMMA0*kf/585}\")\n",
    "print(f\"QUADD={GAMMA0*kd/585}\")"
   ]
  },
  {
   "cell_type": "code",
   "execution_count": null,
   "metadata": {},
   "outputs": [],
   "source": []
  }
 ],
 "metadata": {
  "kernelspec": {
   "display_name": "Python 3",
   "language": "python",
   "name": "py3"
  },
  "language_info": {
   "codemirror_mode": {
    "name": "ipython",
    "version": 3
   },
   "file_extension": ".py",
   "mimetype": "text/x-python",
   "name": "python",
   "nbconvert_exporter": "python",
   "pygments_lexer": "ipython3",
   "version": "3.7.2"
  }
 },
 "nbformat": 4,
 "nbformat_minor": 4
}
