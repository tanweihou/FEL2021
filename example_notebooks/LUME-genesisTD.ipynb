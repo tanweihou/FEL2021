{
 "cells": [
  {
   "cell_type": "code",
   "execution_count": null,
   "id": "colonial-wireless",
   "metadata": {},
   "outputs": [],
   "source": [
    "import numpy as np\n",
    "%matplotlib inline\n",
    "%config InlineBackend.figure_format = 'retina'\n",
    "import matplotlib.pyplot as plt\n",
    "plt.style.use(r'PaperDoubleFig.mplstyle')\n",
    "genesis_bin='/home/vagrant/.local/bin/genesis2-mpi'\n",
    "from genesis import Genesis"
   ]
  },
  {
   "cell_type": "code",
   "execution_count": null,
   "id": "fatty-assistant",
   "metadata": {},
   "outputs": [],
   "source": [
    "!which genesis2-mpi"
   ]
  },
  {
   "cell_type": "markdown",
   "id": "caring-killer",
   "metadata": {},
   "source": [
    "## Steady state solution:\n",
    "```python\n",
    "gen = Genesis('template.in')\n",
    "# undulator\n",
    "gen['xlamd'] = 0.0186\n",
    "gen['aw0'] = gen['awd'] = 0.86\n",
    "gen['nwig'] = int(80/gen['xlamd'])\n",
    "# electron beam\n",
    "gen['curpeak'] = 3000\n",
    "gen['gamma0'] = 12e9/0.511e6\n",
    "gen['delgam'] = 1.5e-4*gen['gamma0']\n",
    "gen['rxbeam'] = 1.1973e-05\n",
    "gen['rybeam'] = 1.0446e-05\n",
    "gen['emitx'] = gen['emity'] = 0.2e-6\n",
    "gen['npart'] = 2**14\n",
    "# radiation\n",
    "gen['xlamds'] = 2.9384e-11\n",
    "gen['prad0'] = 0.175e6\n",
    "gen['zrayl'] = 24\n",
    "gen['zwaist'] = 0\n",
    "# mesh\n",
    "gen['ncar'] = 151\n",
    "gen['dgrid'] = 100e-6\n",
    "# focusing\n",
    "gen['f1st'] = 5\n",
    "gen['fl'] = 10\n",
    "gen['quadf'] = 30.067217489485472\n",
    "gen['dl'] = 10\n",
    "gen['quadd'] = 30\n",
    "gen['drl'] = 100\n",
    "gen['nwig'] -= gen['nwig']%(gen['fl']+gen['dl']+2*gen['drl'])\n",
    "# simulation\n",
    "gen['delz'] = 5\n",
    "gen.run()\n",
    "gen.output['run_info']\n",
    "```"
   ]
  },
  {
   "cell_type": "markdown",
   "id": "wound-bicycle",
   "metadata": {},
   "source": [
    "## Include unphysical slices\n",
    "```python\n",
    "gen1 = Genesis('template.in', genesis_bin=genesis_bin)\n",
    "gen1.binary_prefixes = ['mpirun', '-n', '44']\n",
    "# undulator\n",
    "gen1['xlamd'] = 0.0186\n",
    "gen1['aw0'] = gen1['awd'] = 0.86\n",
    "gen1['nwig'] = int(80/gen1['xlamd'])\n",
    "# electron beam\n",
    "gen1['curpeak'] = 3000\n",
    "gen1['gamma0'] = 12e9/0.511e6\n",
    "gen1['delgam'] = 1.5e-4*gen1['gamma0']\n",
    "gen1['rxbeam'] = 1.1973e-05\n",
    "gen1['rybeam'] = 1.0446e-05\n",
    "gen1['emitx'] = gen1['emity'] = 0.2e-6\n",
    "gen1['npart'] = 2**14\n",
    "# radiation\n",
    "gen1['xlamds'] = 2.9384e-11\n",
    "gen1['prad0'] = 0e4\n",
    "gen1['zrayl'] = 24\n",
    "gen1['zwaist'] = 0\n",
    "# mesh\n",
    "gen1['ncar'] = 151\n",
    "gen1['dgrid'] = 100e-6\n",
    "# focusing\n",
    "gen1['f1st'] = 5\n",
    "gen1['fl'] = 10\n",
    "gen1['quadf'] = 30.067217489485472\n",
    "gen1['dl'] = 10\n",
    "gen1['quadd'] = 30\n",
    "gen1['drl'] = 100\n",
    "gen1['nwig'] -= gen1['nwig']%(gen1['fl']+gen1['dl']+2*gen1['drl'])\n",
    "# simulation\n",
    "gen1['delz'] = 5\n",
    "gen1['itdp'] = 1\n",
    "gen1['shotnoise'] = 1.0\n",
    "gen1['nslice'] = 44*20\n",
    "gen1['iotail'] = 1\n",
    "gen1['ipseed'] = 1\n",
    "gen1['zsep'] = 4*gen1['delz']\n",
    "gen1['curlen'] = -gen1['nslice']*gen1['zsep']*gen1['xlamds']\n",
    "gen1.run()\n",
    "gen1.output['run_info']\n",
    "```"
   ]
  },
  {
   "cell_type": "markdown",
   "id": "likely-intelligence",
   "metadata": {},
   "source": [
    "## Do not include unphysical slices\n",
    "```python\n",
    "gen2 = Genesis('template.in', genesis_bin=genesis_bin)\n",
    "gen2.binary_prefixes = ['mpirun', '-n', '44']\n",
    "# undulator\n",
    "gen2['xlamd'] = 0.0186\n",
    "gen2['aw0'] = gen2['awd'] = 0.86\n",
    "gen2['nwig'] = int(80/gen2['xlamd'])\n",
    "# electron beam\n",
    "gen2['curpeak'] = 3000\n",
    "gen2['gamma0'] = 12e9/0.511e6\n",
    "gen2['delgam'] = 1.5e-4*gen2['gamma0']\n",
    "gen2['rxbeam'] = 1.1973e-05\n",
    "gen2['rybeam'] = 1.0446e-05\n",
    "gen2['emitx'] = gen2['emity'] = 0.2e-6\n",
    "gen2['npart'] = 2**14\n",
    "# radiation\n",
    "gen2['xlamds'] = 2.9384e-11\n",
    "gen2['prad0'] = 0e4\n",
    "gen2['zrayl'] = 24\n",
    "gen2['zwaist'] = 0\n",
    "# mesh\n",
    "gen2['ncar'] = 151\n",
    "gen2['dgrid'] = 100e-6\n",
    "# focusing\n",
    "gen2['f1st'] = 5\n",
    "gen2['fl'] = 10\n",
    "gen2['quadf'] = 30.067217489485472\n",
    "gen2['dl'] = 10\n",
    "gen2['quadd'] = 30\n",
    "gen2['drl'] = 100\n",
    "gen2['nwig'] -= gen2['nwig']%(gen2['fl']+gen2['dl']+2*gen2['drl'])\n",
    "# simulation\n",
    "gen2['delz'] = 5\n",
    "gen2['itdp'] = 1\n",
    "gen2['shotnoise'] = 1.0\n",
    "gen2['nslice'] = 44*20\n",
    "gen2['iotail'] = 0\n",
    "gen2['ipseed'] = 1\n",
    "gen2['zsep'] = 4*gen2['delz']\n",
    "gen2['curlen'] = -gen2['nslice']*gen2['zsep']*gen2['xlamds']\n",
    "gen2.run()\n",
    "gen2.output['run_info']\n",
    "```"
   ]
  },
  {
   "cell_type": "code",
   "execution_count": null,
   "id": "daily-juice",
   "metadata": {},
   "outputs": [],
   "source": [
    "gen = Genesis()\n",
    "gen.load_archive('gen.h5')\n",
    "gen1 = Genesis()\n",
    "gen1.load_archive('gen1.h5')\n",
    "gen2 = Genesis()\n",
    "gen2.load_archive('gen2.h5')"
   ]
  },
  {
   "cell_type": "code",
   "execution_count": null,
   "id": "angry-chester",
   "metadata": {},
   "outputs": [],
   "source": [
    "plt.plot(gen.output['data']['z'], 1e-9*gen.output['data']['power'][0], label='Steady-State (time-independent)')\n",
    "plt.plot(gen1.output['data']['z'], 1e-9*np.mean(gen1.output['data']['power'], axis=0), label='Unphysical (time-dependent)')\n",
    "plt.plot(gen2.output['data']['z'], 1e-9*np.mean(gen2.output['data']['power'], axis=0), label='Physical (time-dependent)')\n",
    "plt.xlabel('Undulator distance, m')\n",
    "plt.ylabel('Average power, GW')\n",
    "plt.xlim([0, 79])\n",
    "plt.ylim([0, np.max(gen.output['data']['power'][0])*1.01e-9])\n",
    "plt.legend()\n",
    "plt.show()"
   ]
  },
  {
   "cell_type": "code",
   "execution_count": null,
   "id": "discrete-ecuador",
   "metadata": {},
   "outputs": [],
   "source": [
    "plt.semilogy(gen.output['data']['z'], gen.output['data']['power'][0], label='Steady-State (time-independent)')\n",
    "plt.semilogy(gen1.output['data']['z'], np.mean(gen1.output['data']['power'], axis=0), label='Unphysical (time-dependent)')\n",
    "plt.semilogy(gen2.output['data']['z'], np.mean(gen2.output['data']['power'], axis=0), label='Physical (time-dependent)')\n",
    "plt.xlabel('Undulator distance, m')\n",
    "plt.ylabel('Average power, W')\n",
    "plt.xlim([0, 79])\n",
    "plt.ylim([1e5, np.max(gen.output['data']['power'][0])*1.1])\n",
    "plt.legend()\n",
    "plt.show()"
   ]
  },
  {
   "cell_type": "code",
   "execution_count": null,
   "id": "delayed-ballet",
   "metadata": {},
   "outputs": [],
   "source": [
    "plt.imshow(gen1.output['data']['power'].T, aspect='auto', origin='lower',\n",
    "           extent=[0, len(gen1.output['data']['power']),\n",
    "                  gen1.output['data']['z'][0], gen1.output['data']['z'][-1]])\n",
    "plt.grid()\n",
    "plt.xlabel('Slice number')\n",
    "plt.ylabel('Undulator distance, m')\n",
    "plt.ylim([35, 77])\n",
    "plt.show()"
   ]
  },
  {
   "cell_type": "code",
   "execution_count": null,
   "id": "mighty-blowing",
   "metadata": {},
   "outputs": [],
   "source": [
    "plt.plot(1e-9*gen1.output['data']['power'][:,-1])\n",
    "#plt.xlabel('Slice number')\n",
    "plt.ylabel('Power, GW')\n",
    "plt.xlim([0, len(gen1.output['data']['power'])])\n",
    "plt.ylim([0, np.max(1e-9*gen1.output['data']['power'][:,-1])*1.01])\n",
    "plt.title('Power with unphysical slices')\n",
    "plt.show()"
   ]
  },
  {
   "cell_type": "code",
   "execution_count": null,
   "id": "pleasant-shape",
   "metadata": {},
   "outputs": [],
   "source": [
    "plt.imshow(gen2.output['data']['power'].T, aspect='auto', origin='lower',\n",
    "           extent=[0, len(gen2.output['data']['power']),\n",
    "                  gen2.output['data']['z'][0], gen2.output['data']['z'][-1]])\n",
    "plt.grid()\n",
    "plt.xlabel('Slice number')\n",
    "plt.ylabel('Undulator distance, m')\n",
    "plt.ylim([35, 77])\n",
    "plt.show()"
   ]
  },
  {
   "cell_type": "code",
   "execution_count": null,
   "id": "surprised-doctor",
   "metadata": {},
   "outputs": [],
   "source": [
    "plt.plot(1e-9*gen2.output['data']['power'][:,-1])\n",
    "#plt.xlabel('Slice number')\n",
    "plt.ylabel('Power, GW')\n",
    "plt.xlim([0, len(gen2.output['data']['power'])])\n",
    "plt.ylim([0, np.max(1e-9*gen2.output['data']['power'][:,-1])*1.01])\n",
    "plt.title('Power with physical slices')\n",
    "plt.show()"
   ]
  },
  {
   "cell_type": "code",
   "execution_count": null,
   "id": "sharp-specification",
   "metadata": {},
   "outputs": [],
   "source": [
    "gen1g = Genesis()\n",
    "gen1g.load_archive('gen1g.h5')\n",
    "gen2g = Genesis()\n",
    "gen2g.load_archive('gen2g.h5')"
   ]
  },
  {
   "cell_type": "code",
   "execution_count": null,
   "id": "thermal-doctrine",
   "metadata": {},
   "outputs": [],
   "source": [
    "plt.imshow(gen1g.output['data']['power'].T, aspect='auto', origin='lower',\n",
    "           extent=[0, len(gen1g.output['data']['power']),\n",
    "                  gen1g.output['data']['z'][0], gen1g.output['data']['z'][-1]])\n",
    "plt.grid()\n",
    "plt.xlabel('Slice number')\n",
    "plt.ylabel('Undulator distance, m')\n",
    "plt.ylim([35, 77])\n",
    "plt.show()"
   ]
  },
  {
   "cell_type": "code",
   "execution_count": null,
   "id": "leading-interest",
   "metadata": {},
   "outputs": [],
   "source": [
    "plt.plot(1e-9*gen1g.output['data']['power'][:,-1])\n",
    "#plt.xlabel('Slice number')\n",
    "plt.ylabel('Power, GW')\n",
    "plt.xlim([0, len(gen1g.output['data']['power'])])\n",
    "plt.ylim([0, np.max(1e-9*gen1g.output['data']['power'][:,-1])*1.01])\n",
    "plt.title('Power with unphysical slices')\n",
    "plt.twinx()\n",
    "plt.plot(gen1g.output['data']['current'], 'orange')\n",
    "plt.show()"
   ]
  },
  {
   "cell_type": "code",
   "execution_count": null,
   "id": "liable-crime",
   "metadata": {},
   "outputs": [],
   "source": [
    "plt.imshow(gen2g.output['data']['power'].T, aspect='auto', origin='lower',\n",
    "           extent=[0, len(gen2g.output['data']['power']),\n",
    "                  gen2g.output['data']['z'][0], gen2g.output['data']['z'][-1]])\n",
    "plt.grid()\n",
    "plt.xlabel('Slice number')\n",
    "plt.ylabel('Undulator distance, m')\n",
    "plt.ylim([35, 77])\n",
    "plt.show()"
   ]
  },
  {
   "cell_type": "code",
   "execution_count": null,
   "id": "exciting-audience",
   "metadata": {},
   "outputs": [],
   "source": [
    "plt.plot(1e-9*gen2g.output['data']['power'][:,-1])\n",
    "#plt.xlabel('Slice number')\n",
    "plt.ylabel('Power, GW')\n",
    "plt.xlim([0, len(gen2g.output['data']['power'])])\n",
    "plt.ylim([0, np.max(1e-9*gen2g.output['data']['power'][:,-1])*1.01])\n",
    "plt.title('Power with physical slices')\n",
    "plt.twinx()\n",
    "plt.plot(gen2g.output['data']['current'], 'orange')\n",
    "plt.show()"
   ]
  },
  {
   "cell_type": "code",
   "execution_count": null,
   "id": "buried-entrepreneur",
   "metadata": {},
   "outputs": [],
   "source": []
  }
 ],
 "metadata": {
  "kernelspec": {
   "display_name": "Python 3",
   "language": "python",
   "name": "py3"
  },
  "language_info": {
   "codemirror_mode": {
    "name": "ipython",
    "version": 3
   },
   "file_extension": ".py",
   "mimetype": "text/x-python",
   "name": "python",
   "nbconvert_exporter": "python",
   "pygments_lexer": "ipython3",
   "version": "3.7.2"
  }
 },
 "nbformat": 4,
 "nbformat_minor": 5
}
