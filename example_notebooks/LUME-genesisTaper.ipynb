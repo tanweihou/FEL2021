{
 "cells": [
  {
   "cell_type": "code",
   "execution_count": null,
   "id": "continuous-episode",
   "metadata": {},
   "outputs": [],
   "source": [
    "import numpy as np\n",
    "%matplotlib inline\n",
    "%config InlineBackend.figure_format = 'retina'\n",
    "import matplotlib.pyplot as plt\n",
    "plt.style.use(r'PaperDoubleFig.mplstyle')\n",
    "genesis_bin='/home/vagrant/.local/bin/genesis2-mpi'\n",
    "from genesis import Genesis"
   ]
  },
  {
   "cell_type": "code",
   "execution_count": null,
   "id": "addressed-layer",
   "metadata": {},
   "outputs": [],
   "source": [
    "!which genesis2-mpi"
   ]
  },
  {
   "cell_type": "code",
   "execution_count": null,
   "id": "exotic-programming",
   "metadata": {},
   "outputs": [],
   "source": [
    "gen = Genesis('template.in')\n",
    "# undulator\n",
    "gen['xlamd'] = 0.0186\n",
    "gen['aw0'] = gen['awd'] = 0.86\n",
    "gen['nwig'] = int(80/gen['xlamd'])\n",
    "# electron beam\n",
    "gen['curpeak'] = 3000\n",
    "gen['gamma0'] = 12e9/0.511e6\n",
    "gen['delgam'] = 1.5e-4*gen['gamma0']\n",
    "gen['rxbeam'] = 1.1973e-05\n",
    "gen['rybeam'] = 1.0446e-05\n",
    "gen['emitx'] = gen['emity'] = 0.2e-6\n",
    "gen['npart'] = 2**13\n",
    "# radiation\n",
    "gen['xlamds'] = 2.9384e-11\n",
    "gen['prad0'] = 0.175e6\n",
    "gen['zrayl'] = 24\n",
    "gen['zwaist'] = 0\n",
    "# mesh\n",
    "gen['ncar'] = 151\n",
    "gen['dgrid'] = 100e-6\n",
    "# focusing\n",
    "gen['f1st'] = 5\n",
    "gen['fl'] = 10\n",
    "gen['quadf'] = 30.067217489485472\n",
    "gen['dl'] = 10\n",
    "gen['quadd'] = 30\n",
    "gen['drl'] = 100\n",
    "gen['nwig'] -= gen['nwig']%(gen['fl']+gen['dl']+2*gen['drl'])\n",
    "# simulation\n",
    "gen['delz'] = 5\n",
    "gen.run()\n",
    "gen.output['run_info']"
   ]
  },
  {
   "cell_type": "code",
   "execution_count": null,
   "id": "extended-ribbon",
   "metadata": {},
   "outputs": [],
   "source": [
    "plt.plot(gen.output['data']['z'], 1e-9*gen.output['data']['power'][0])\n",
    "plt.xlabel('Undulator distance, m')\n",
    "plt.ylabel('Average power, GW')\n",
    "plt.xlim([0, 79])\n",
    "plt.ylim([0, np.max(gen.output['data']['power'][0])*1.01e-9])\n",
    "plt.twinx()\n",
    "plt.semilogy(gen.output['data']['z'], 1e-9*gen.output['data']['power'][0], 'r')\n",
    "plt.show()"
   ]
  },
  {
   "cell_type": "code",
   "execution_count": null,
   "id": "stock-newspaper",
   "metadata": {},
   "outputs": [],
   "source": [
    "%%time\n",
    "res = []\n",
    "delta = np.linspace(0, 1e-2, 21)\n",
    "for d in delta:\n",
    "    gen['wcoefz(1)']=53.75\n",
    "    gen['wcoefz(2)']=d\n",
    "    gen['wcoefz(3)']=1\n",
    "    gen.run()\n",
    "    res.append(1e-9*np.max(gen.output['data']['power'][0]))"
   ]
  },
  {
   "cell_type": "code",
   "execution_count": null,
   "id": "harmful-diversity",
   "metadata": {},
   "outputs": [],
   "source": [
    "plt.plot(delta, res)\n",
    "plt.xlabel(\"wcoefz(2)\")\n",
    "plt.ylabel(\"Max power, GW\")\n",
    "plt.show()"
   ]
  },
  {
   "cell_type": "code",
   "execution_count": null,
   "id": "roman-working",
   "metadata": {},
   "outputs": [],
   "source": [
    "delta[np.argmax(res)]"
   ]
  },
  {
   "cell_type": "code",
   "execution_count": null,
   "id": "informative-norway",
   "metadata": {},
   "outputs": [],
   "source": [
    "%%time\n",
    "res2 = []\n",
    "z = np.linspace(45, 70, 21)\n",
    "for z0 in z:\n",
    "    gen['wcoefz(1)']=z0\n",
    "    gen['wcoefz(2)']=4e-3\n",
    "    gen['wcoefz(3)']=1\n",
    "    gen.run()\n",
    "    res2.append(1e-9*np.max(gen.output['data']['power'][0]))"
   ]
  },
  {
   "cell_type": "code",
   "execution_count": null,
   "id": "comic-gravity",
   "metadata": {},
   "outputs": [],
   "source": [
    "plt.plot(z, res2)\n",
    "plt.xlabel(\"Starting position wcoefz(1), m\")\n",
    "plt.ylabel(\"Maximum power, GW\")\n",
    "plt.show()"
   ]
  },
  {
   "cell_type": "code",
   "execution_count": null,
   "id": "educated-albania",
   "metadata": {},
   "outputs": [],
   "source": [
    "z[np.argmax(res2)]"
   ]
  },
  {
   "cell_type": "code",
   "execution_count": null,
   "id": "excited-yacht",
   "metadata": {},
   "outputs": [],
   "source": [
    "gen['wcoefz(1)']=53.75\n",
    "gen['wcoefz(2)']=0.004\n",
    "gen['wcoefz(3)']=1\n",
    "gen.run()"
   ]
  },
  {
   "cell_type": "code",
   "execution_count": null,
   "id": "revolutionary-creator",
   "metadata": {},
   "outputs": [],
   "source": [
    "plt.plot(gen.output['data']['z'], 1e-9*gen.output['data']['power'][0])\n",
    "plt.xlabel('Undulator distance, m')\n",
    "plt.ylabel('Average power, GW')\n",
    "plt.xlim([0, 79])\n",
    "plt.ylim([0, np.max(gen.output['data']['power'][0])*1.01e-9])\n",
    "plt.grid()\n",
    "plt.twinx()\n",
    "plt.plot(gen.output['data']['z'], gen.output['data']['aw'], 'r')\n",
    "plt.ylabel(\"Undulator RMS parameter (aw)\", fontdict={'color':'r'})\n",
    "plt.show()"
   ]
  },
  {
   "cell_type": "code",
   "execution_count": null,
   "id": "irish-boundary",
   "metadata": {},
   "outputs": [],
   "source": [
    "gen['nwig'] = int(300/gen['xlamd'])\n",
    "gen['nwig'] -= gen['nwig']%(gen['fl']+gen['dl']+2*gen['drl'])\n",
    "gen['wcoefz(1)']=53.75\n",
    "gen['wcoefz(2)']=0.004\n",
    "gen['wcoefz(3)']=1\n",
    "gen.run()"
   ]
  },
  {
   "cell_type": "code",
   "execution_count": null,
   "id": "recognized-centre",
   "metadata": {},
   "outputs": [],
   "source": [
    "plt.plot(gen.output['data']['z'], 1e-9*gen.output['data']['power'][0])\n",
    "plt.xlabel('Undulator distance, m')\n",
    "plt.ylabel('Average power, GW')\n",
    "plt.ylim([0, np.max(gen.output['data']['power'][0])*1.01e-9])\n",
    "plt.grid()\n",
    "plt.twinx()\n",
    "plt.plot(gen.output['data']['z'], gen.output['data']['aw'], 'r')\n",
    "plt.ylabel(\"Undulator RMS parameter (aw)\", fontdict={'color':'r'})\n",
    "plt.show()"
   ]
  },
  {
   "cell_type": "code",
   "execution_count": null,
   "id": "sporting-royal",
   "metadata": {},
   "outputs": [],
   "source": [
    "gen['nwig'] = int(900/gen['xlamd'])\n",
    "gen['nwig'] -= gen['nwig']%(gen['fl']+gen['dl']+2*gen['drl'])\n",
    "gen['wcoefz(1)']=53.75\n",
    "gen['wcoefz(2)']=0.004\n",
    "gen['wcoefz(3)']=1\n",
    "gen.run()"
   ]
  },
  {
   "cell_type": "code",
   "execution_count": null,
   "id": "inner-standing",
   "metadata": {},
   "outputs": [],
   "source": [
    "plt.plot(gen.output['data']['z'], 1e-9*gen.output['data']['power'][0])\n",
    "plt.xlabel('Undulator distance, m')\n",
    "plt.ylabel('Average power, GW')\n",
    "plt.ylim([0, np.max(gen.output['data']['power'][0])*1.01e-9])\n",
    "plt.grid()\n",
    "plt.twinx()\n",
    "plt.plot(gen.output['data']['z'], gen.output['data']['aw'], 'r')\n",
    "plt.ylabel(\"Undulator RMS parameter (aw)\", fontdict={'color':'r'})\n",
    "plt.show()"
   ]
  },
  {
   "cell_type": "code",
   "execution_count": null,
   "id": "first-black",
   "metadata": {},
   "outputs": [],
   "source": [
    "gen['nwig'] = int(80/gen['xlamd'])\n",
    "gen['nwig'] -= gen['nwig']%(gen['fl']+gen['dl']+2*gen['drl'])\n",
    "gen['idmppar'] = 1\n",
    "gen['ippart'] = 10\n",
    "gen['wcoefz(1)']=53.75\n",
    "gen['wcoefz(2)']=0.004\n",
    "gen['wcoefz(3)']=1\n",
    "gen.run()\n",
    "# gamma, phase, x, y, px/mc, py/mc\n",
    "dis = gen.output['data']['par']"
   ]
  },
  {
   "cell_type": "code",
   "execution_count": null,
   "id": "compound-condition",
   "metadata": {},
   "outputs": [],
   "source": [
    "n = 43\n",
    "p = dis[n]\n",
    "plt.hist2d(p[1]/(np.pi), 0.511*p[0]-12e3, bins=[100,100], cmap=plt.get_cmap('plasma'))\n",
    "plt.title(f\"Undulator position: {n*gen['xlamd']*gen['delz']*gen['ippart']:.2f} m\")\n",
    "plt.xlabel(r'$\\theta/\\pi$')\n",
    "plt.ylabel('Energy shift (MeV)')\n",
    "plt.xlim([-4, np.max(p[1]/(np.pi))])\n",
    "plt.show()"
   ]
  },
  {
   "cell_type": "code",
   "execution_count": null,
   "id": "japanese-paragraph",
   "metadata": {},
   "outputs": [],
   "source": [
    "%%time\n",
    "res1 = []\n",
    "delta = np.linspace(0, 1e-2, 21)\n",
    "for d in delta:\n",
    "    gen['wcoefz(1)']=49\n",
    "    gen['wcoefz(2)']=d\n",
    "    gen['wcoefz(3)']=2\n",
    "    gen.run()\n",
    "    res1.append(1e-9*np.max(gen.output['data']['power'][0]))"
   ]
  },
  {
   "cell_type": "code",
   "execution_count": null,
   "id": "italian-penetration",
   "metadata": {},
   "outputs": [],
   "source": [
    "plt.plot(delta, res1)\n",
    "plt.xlabel(\"wcoefz(2)\")\n",
    "plt.ylabel(\"Max power, GW\")\n",
    "plt.show()"
   ]
  },
  {
   "cell_type": "code",
   "execution_count": null,
   "id": "flush-thought",
   "metadata": {},
   "outputs": [],
   "source": [
    "delta[np.argmax(res1)]"
   ]
  },
  {
   "cell_type": "code",
   "execution_count": null,
   "id": "stone-clearance",
   "metadata": {},
   "outputs": [],
   "source": [
    "%%time\n",
    "res3 = []\n",
    "z = np.linspace(35, 70, 21)\n",
    "for z0 in z:\n",
    "    gen['wcoefz(1)']=z0\n",
    "    gen['wcoefz(2)']=4.5e-3\n",
    "    gen['wcoefz(3)']=2\n",
    "    gen.run()\n",
    "    res3.append(1e-9*np.max(gen.output['data']['power'][0]))"
   ]
  },
  {
   "cell_type": "code",
   "execution_count": null,
   "id": "approved-interpretation",
   "metadata": {},
   "outputs": [],
   "source": [
    "plt.plot(z, res3)\n",
    "plt.xlabel(\"Starting position wcoefz(1), m\")\n",
    "plt.ylabel(\"Maximum power, GW\")\n",
    "plt.show()"
   ]
  },
  {
   "cell_type": "code",
   "execution_count": null,
   "id": "chief-increase",
   "metadata": {},
   "outputs": [],
   "source": [
    "z[np.argmax(res3)]"
   ]
  },
  {
   "cell_type": "code",
   "execution_count": null,
   "id": "transparent-afghanistan",
   "metadata": {},
   "outputs": [],
   "source": [
    "gen['wcoefz(1)']=49\n",
    "gen['wcoefz(2)']=0.0045\n",
    "gen['wcoefz(3)']=2\n",
    "gen.run()"
   ]
  },
  {
   "cell_type": "code",
   "execution_count": null,
   "id": "chicken-store",
   "metadata": {},
   "outputs": [],
   "source": [
    "plt.plot(gen.output['data']['z'], 1e-9*gen.output['data']['power'][0])\n",
    "plt.xlabel('Undulator distance, m')\n",
    "plt.ylabel('Average power, GW')\n",
    "plt.xlim([0, 79])\n",
    "plt.ylim([0, np.max(gen.output['data']['power'][0])*1.01e-9])\n",
    "plt.grid()\n",
    "plt.twinx()\n",
    "plt.plot(gen.output['data']['z'], gen.output['data']['aw'], 'r')\n",
    "plt.ylabel(\"Undulator RMS parameter (aw)\", fontdict={'color':'r'})\n",
    "plt.show()"
   ]
  },
  {
   "cell_type": "code",
   "execution_count": null,
   "id": "signal-server",
   "metadata": {},
   "outputs": [],
   "source": [
    "gen['nwig'] = int(300/gen['xlamd'])\n",
    "gen['nwig'] -= gen['nwig']%(gen['fl']+gen['dl']+2*gen['drl'])\n",
    "gen['wcoefz(1)']=49\n",
    "gen['wcoefz(2)']=0.0045\n",
    "gen['wcoefz(3)']=2\n",
    "gen.run()"
   ]
  },
  {
   "cell_type": "code",
   "execution_count": null,
   "id": "varied-wagner",
   "metadata": {},
   "outputs": [],
   "source": [
    "plt.plot(gen.output['data']['z'], 1e-9*gen.output['data']['power'][0])\n",
    "plt.xlabel('Undulator distance, m')\n",
    "plt.ylabel('Average power, GW')\n",
    "plt.ylim([0, np.max(gen.output['data']['power'][0])*1.01e-9])\n",
    "plt.grid()\n",
    "plt.twinx()\n",
    "plt.plot(gen.output['data']['z'], gen.output['data']['aw'], 'r')\n",
    "plt.ylabel(\"Undulator RMS parameter (aw)\", fontdict={'color':'r'})\n",
    "plt.show()"
   ]
  },
  {
   "cell_type": "code",
   "execution_count": null,
   "id": "alert-warner",
   "metadata": {},
   "outputs": [],
   "source": []
  },
  {
   "cell_type": "code",
   "execution_count": null,
   "id": "unsigned-earthquake",
   "metadata": {},
   "outputs": [],
   "source": [
    "gen['nwig'] = int(900/gen['xlamd'])\n",
    "gen['nwig'] -= gen['nwig']%(gen['fl']+gen['dl']+2*gen['drl'])\n",
    "gen['wcoefz(1)']=49\n",
    "gen['wcoefz(2)']=0.0045\n",
    "gen['wcoefz(3)']=2\n",
    "gen.run()"
   ]
  },
  {
   "cell_type": "code",
   "execution_count": null,
   "id": "excess-vancouver",
   "metadata": {},
   "outputs": [],
   "source": [
    "plt.plot(gen.output['data']['z'], 1e-9*gen.output['data']['power'][0])\n",
    "plt.xlabel('Undulator distance, m')\n",
    "plt.ylabel('Average power, GW')\n",
    "plt.ylim([0, np.max(gen.output['data']['power'][0])*1.01e-9])\n",
    "plt.grid()\n",
    "plt.twinx()\n",
    "plt.plot(gen.output['data']['z'], gen.output['data']['aw'], 'r')\n",
    "plt.ylabel(\"Undulator RMS parameter (aw)\", fontdict={'color':'r'})\n",
    "plt.show()"
   ]
  },
  {
   "cell_type": "code",
   "execution_count": null,
   "id": "green-dover",
   "metadata": {},
   "outputs": [],
   "source": [
    "gen['nwig'] = int(80/gen['xlamd'])\n",
    "gen['nwig'] -= gen['nwig']%(gen['fl']+gen['dl']+2*gen['drl'])\n",
    "gen['idmppar'] = 1\n",
    "gen['ippart'] = 10\n",
    "gen['wcoefz(1)']=49\n",
    "gen['wcoefz(2)']=0.0045\n",
    "gen['wcoefz(3)']=2\n",
    "gen.run()\n",
    "# gamma, phase, x, y, px/mc, py/mc\n",
    "dis = gen.output['data']['par']"
   ]
  },
  {
   "cell_type": "code",
   "execution_count": null,
   "id": "radical-ceiling",
   "metadata": {},
   "outputs": [],
   "source": [
    "n = 83\n",
    "p = dis[n]\n",
    "plt.hist2d(p[1]/(np.pi), 0.511*p[0]-12e3, bins=[100,100], cmap=plt.get_cmap('plasma'))\n",
    "plt.title(f\"Undulator position: {n*gen['xlamd']*gen['delz']*gen['ippart']:.2f} m\")\n",
    "plt.xlabel(r'$\\theta/\\pi$')\n",
    "plt.ylabel('Energy shift (MeV)')\n",
    "plt.xlim([-4, np.max(p[1]/(np.pi))])\n",
    "plt.show()"
   ]
  },
  {
   "cell_type": "code",
   "execution_count": null,
   "id": "interstate-episode",
   "metadata": {},
   "outputs": [],
   "source": []
  }
 ],
 "metadata": {
  "kernelspec": {
   "display_name": "Python 3",
   "language": "python",
   "name": "py3"
  },
  "language_info": {
   "codemirror_mode": {
    "name": "ipython",
    "version": 3
   },
   "file_extension": ".py",
   "mimetype": "text/x-python",
   "name": "python",
   "nbconvert_exporter": "python",
   "pygments_lexer": "ipython3",
   "version": "3.7.2"
  }
 },
 "nbformat": 4,
 "nbformat_minor": 5
}
